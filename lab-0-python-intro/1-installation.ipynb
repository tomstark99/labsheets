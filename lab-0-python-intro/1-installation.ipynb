{
 "cells": [
  {
   "cell_type": "markdown",
   "metadata": {},
   "source": [
    "# Do I need to read this?\n",
    "\n",
    "Read through this if any of the following is *not* true\n",
    "\n",
    "* `python` launches a python REPL (interpreter)\n",
    "* `python --version` prints `3.X.Y` or `python3 --version` prints `3.X.Y` where `X >= 6`\n",
    "* `pip -V` prints out the version of pip and lists its installation inside a `python3.X` directory (probably under `/usr/lib`"
   ]
  },
  {
   "cell_type": "markdown",
   "metadata": {},
   "source": [
    "# Installing Python locally\n",
    "\n",
    "## Linux\n",
    "\n",
    "It is very likely that you will already have python installed out of the box,\n",
    "however if you don't or wish to upgrade to a more recent version, one of the\n",
    "following commands might help you.\n",
    "\n",
    "### Ubuntu\n",
    "\n",
    "```\n",
    "$ sudo apt update && apt install python3.7 python3-pip\n",
    "```\n",
    "\n",
    "### Fedora\n",
    "\n",
    "\n",
    "```\n",
    "$ sudo dnf install python37 python-pip\n",
    "```\n",
    "\n",
    "[Fedora developer\n",
    "portal](https://developer.fedoraproject.org/tech/languages/python/multiple-pythons.html)\n",
    "has some good docs on managing python versions.\n",
    "\n",
    "### Arch\n",
    "\n",
    "```\n",
    "$ sudo pacman -Sy python3 python3-pip\n",
    "```\n",
    "\n",
    "## Windows\n",
    "\n",
    "\n",
    "Use [chocolatey](https://chocolatey.org/), or alternatively the [MSI installer](https://www.python.org/downloads/windows/)\n",
    "\n",
    "```\n",
    "C:\\> choco install python\n",
    "```\n",
    "\n",
    "## macOS\n",
    "\n",
    "Python comes installed out of the box on OS X/macOS however you might find you\n",
    "want to upgrade to a more recent version. [`brew`](https://brew.sh/) has you covered. \n",
    "\n",
    "\n",
    "```\n",
    "$ brew install python\n",
    "```\n",
    "\n",
    "**NOTE**: Ensure you are using Python 3 and not Python 2, as we'll be using features only available in Python 3. Python 2 will be entering [end of life in 2020](https://pythonclock.org/) and [most libraries have pledged to drop Python 2 support](https://pythonclock.org/).\n",
    "\n",
    "```\n",
    "$ python --version\n",
    "Python 3.7.3\n",
    "```\n",
    "\n",
    "You should see a `3.X.Y` version number (as long as `X >= 6` you're good to go).\n",
    "\n",
    "---"
   ]
  }
 ],
 "metadata": {
  "kernelspec": {
   "display_name": "Python 3",
   "language": "python",
   "name": "python3"
  },
  "language_info": {
   "codemirror_mode": {
    "name": "ipython",
    "version": 3
   },
   "file_extension": ".py",
   "mimetype": "text/x-python",
   "name": "python",
   "nbconvert_exporter": "python",
   "pygments_lexer": "ipython3",
   "version": "3.7.6"
  }
 },
 "nbformat": 4,
 "nbformat_minor": 4
}
