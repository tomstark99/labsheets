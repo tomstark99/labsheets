{
 "cells": [
  {
   "cell_type": "markdown",
   "metadata": {},
   "source": [
    "# Do I need to read this?\n",
    "\n",
    "Read through the notebook if any of the following is not true\n",
    "\n",
    "* I know how to add cells to a notebook containing code\n",
    "* I know how to execute cells containing code\n",
    "* I know how to add cells containing markdown\n",
    "* I know what *cell* and *line* magic commands are and how they can be useful\n",
    "* I know how to bring up a cheatsheet listing common IPython commands\n",
    "* I know how to bring up the documentation for a given python function in an overlay window"
   ]
  },
  {
   "cell_type": "markdown",
   "metadata": {},
   "source": [
    "# Introduction to Jupyter\n",
    "\n",
    "[Jupyter](https://jupyter.org/) is one of the best projects to emerge from the scientific Python community. It is an interactive notebook containing code interspersed with text. It is the perfect environment for learning Python as it allows you try out little code snippets and write notes as you go.\n",
    "\n",
    "We use [Colaboratory](https://colab.research.google.com/), a hosted version of Jupyter notebook.\n",
    "\n",
    "**NOTE:** To run this notebook on colaboratory, first download it and within colaboratory click *File > Upload Notebook* and select the downloaded file.\n",
    "\n",
    "\n",
    "---"
   ]
  },
  {
   "cell_type": "markdown",
   "metadata": {},
   "source": [
    "A Jupyter notebook is composed of a collection of cells, each of which either contains code, or text (in the [markdown format](https://github.com/adam-p/markdown-here/wiki/Markdown-Cheatsheet)). Cells are added by clicking the **+** button on the toolbar ribbon. You can also use the drop down menu in the toolbar ribbon to toggle the cell type between code and text\n",
    "\n",
    "Once you have written some Python in a cell you can execute it and inspect its output by pressing `<Ctrl-Enter>`. Try changing the message in the `print` invocation below from `\"Hello World\"` to `\"Kon'nichiwa\"` on the cell below and executing the cell."
   ]
  },
  {
   "cell_type": "code",
   "execution_count": 1,
   "metadata": {},
   "outputs": [
    {
     "name": "stdout",
     "output_type": "stream",
     "text": [
      "Hello world\n"
     ]
    }
   ],
   "source": [
    "print(\"Hello world\")"
   ]
  },
  {
   "cell_type": "markdown",
   "metadata": {},
   "source": [
    "Each cell is executed in a global python context (think of each cell like a multi-line entry in the Python REPL) so variables can be accessed across cells.\n",
    "\n",
    "All cells in the notebook can be run selecting `Cell > Run all` (`Runtime > Run all` in Colaboratory), this will run the cells from the top of the notebook to the bottom.\n",
    "\n",
    "So how is a notebook superior to the Python REPL?\n",
    "\n",
    "Well it has autocompletion for a start. First run the cell below, then add a new line after the import and type `np.` and then press `<Tab>`, notice how it lists all the member of the `numpy` module. Once you have selected a function, you can press `<Tab>` within the function call to bring up its documentation."
   ]
  },
  {
   "cell_type": "code",
   "execution_count": 2,
   "metadata": {},
   "outputs": [],
   "source": [
    "import numpy as np"
   ]
  },
  {
   "cell_type": "markdown",
   "metadata": {},
   "source": [
    "---\n",
    "### Aside: Grokking Jupyter\n",
    "\n",
    "To fully [grok](https://en.wikipedia.org/wiki/Grok) Jupyter you need to learn a little bit about its architecture. Initially Jupyter started off as the IPython project, an interactive python console, which later evolved a web based notebook (the ancestor of Jupyter Notebook). As IPython took off in the data science community, people observed that it could be useful not just for Python but also for other languages and so the concept of a [*Kernel*](https://github.com/jupyter/jupyter/wiki/Jupyter-kernels) was born. In 2014 Jupyter was announced as a spinout of the IPython project separating the IPython features (Python execution and the IPython python module) from the language independent features such as the notebook and console.\n",
    "\n",
    "IPython refers to the [Python language kernel](http://ipython.readthedocs.io/en/stable/install/kernel_install.html) and the [IPython python module](http://ipython.readthedocs.io/en/stable/api/index.html) which provides useful functions like [`display`](http://ipython.readthedocs.io/en/stable/api/generated/IPython.display.html?highlight=display#IPython.display.display).\n",
    "\n",
    "---"
   ]
  },
  {
   "cell_type": "markdown",
   "metadata": {},
   "source": [
    "Jupyter allows you to time code too:"
   ]
  },
  {
   "cell_type": "code",
   "execution_count": 3,
   "metadata": {},
   "outputs": [
    {
     "name": "stdout",
     "output_type": "stream",
     "text": [
      "2 ms ± 89.7 µs per loop (mean ± std. dev. of 7 runs, 1000 loops each)\n"
     ]
    }
   ],
   "source": [
    "def some_expensive_comutation():\n",
    "    return \"-\".join(str(n) for n in range(10000))\n",
    "\n",
    "%timeit some_expensive_comutation()"
   ]
  },
  {
   "cell_type": "markdown",
   "metadata": {},
   "source": [
    "The `%timeit` clause isn't python, but an [IPython line magic](http://ipython.readthedocs.io/en/stable/interactive/magics.html), there are a whole bunch of line magics for performing useful actions like changing the directory that the code executes in, pasting cell contents to a github gist, running in the python debugging `pdb`, and so on.\n",
    "\n",
    "Some of my favourites are:\n",
    "\n",
    "* [`%cd`](http://ipython.readthedocs.io/en/stable/interactive/magics.html#magic-cd)\n",
    "* [`%env`](http://ipython.readthedocs.io/en/stable/interactive/magics.html#magic-env)\n",
    "* [`%load`](http://ipython.readthedocs.io/en/stable/interactive/magics.html#magic-load)\n",
    "* [`%matplotlib`](http://ipython.readthedocs.io/en/stable/interactive/magics.html#magic-matplotlib)\n",
    "* [`%pastebin`](http://ipython.readthedocs.io/en/stable/interactive/magics.html#magic-pastebin)\n",
    "* [`%pdb`](http://ipython.readthedocs.io/en/stable/interactive/magics.html#magic-pdb)\n",
    "* [`%precision`](http://ipython.readthedocs.io/en/stable/interactive/magics.html#magic-precision)\n",
    "* [`%prun`](http://ipython.readthedocs.io/en/stable/interactive/magics.html#magic-prun)\n",
    "* [`%psearch`](http://ipython.readthedocs.io/en/stable/interactive/magics.html#magic-psearch)\n",
    "* [`%quickref`](http://ipython.readthedocs.io/en/stable/interactive/magics.html#magic-quickref)\n",
    "* [`%reset`](http://ipython.readthedocs.io/en/stable/interactive/magics.html#magic-reset)\n",
    "* [`%who`](http://ipython.readthedocs.io/en/stable/interactive/magics.html#magic-who)\n",
    "\n",
    "If you're ever stuck or can't remember some useful feature of Jupyter you should first run `%quickref` to see whether its listed in the quick ref documentation accessible through Jupyter, try it out by running the cell below:"
   ]
  },
  {
   "cell_type": "code",
   "execution_count": 4,
   "metadata": {},
   "outputs": [],
   "source": [
    "%quickref"
   ]
  },
  {
   "cell_type": "markdown",
   "metadata": {},
   "source": [
    "In addition to line magics, there are also [*cell magics*](http://ipython.readthedocs.io/en/stable/interactive/magics.html#cell-magics) denoted by commands prefixed with `%%` at the beginning of a cell.\n",
    "\n",
    "Cell magics are used for changing the execution language of a given cell, or performing some different action.\n",
    "\n",
    "I use the following cell magics regularly\n",
    "\n",
    "* [`%%html`](http://ipython.readthedocs.io/en/stable/interactive/magics.html#cellmagic-sh)\n",
    "* [`%%bash`](http://ipython.readthedocs.io/en/stable/interactive/magics.html#cellmagic-bash)\n",
    "* [`%%writefile`](http://ipython.readthedocs.io/en/stable/interactive/magics.html#cellmagic-writefile)"
   ]
  },
  {
   "cell_type": "markdown",
   "metadata": {},
   "source": [
    "When working with new APIs its common to have to reference to the documentation frequently to understand how to use a function or class. IPython makes this really easy with the `?` and `??` suffixes which can be given applied any python object to bring up the docs in a subwindow"
   ]
  },
  {
   "cell_type": "code",
   "execution_count": 7,
   "metadata": {},
   "outputs": [
    {
     "data": {
      "text/plain": [
       "<function numpy.ravel(a, order='C')>"
      ]
     },
     "execution_count": 7,
     "metadata": {},
     "output_type": "execute_result"
    }
   ],
   "source": [
    "# Show the docs for np.ravel in a pop up\n",
    "np.ravel # <- add parentheses and place cursor within them and press <Tab>"
   ]
  },
  {
   "cell_type": "code",
   "execution_count": 8,
   "metadata": {},
   "outputs": [],
   "source": [
    "# Show the docs for np.ravel\n",
    "np.ravel?"
   ]
  },
  {
   "cell_type": "code",
   "execution_count": 9,
   "metadata": {},
   "outputs": [],
   "source": [
    "# Show the docs *and* source code for np.ravel\n",
    "np.ravel??"
   ]
  },
  {
   "cell_type": "markdown",
   "metadata": {},
   "source": [
    "One of the benefits of working in a Python REPL is that you can easy pause the session with `<Ctrl-z>`, run a shell command and return back to the REPL with `fg`. We can do something similar in Jupyter by using the `!` line magic"
   ]
  },
  {
   "cell_type": "code",
   "execution_count": 10,
   "metadata": {},
   "outputs": [
    {
     "name": "stdout",
     "output_type": "stream",
     "text": [
      "total 916\n",
      "drwxr-xr-x 1 Tom 197121      0 Sep 29 13:10 .\n",
      "drwxr-xr-x 1 Tom 197121      0 Sep 29 12:25 ..\n",
      "-rw-r--r-- 1 Tom 197121     26 Sep 28 14:32 .gitignore\n",
      "drwxr-xr-x 1 Tom 197121      0 Sep 29 13:10 .ipynb_checkpoints\n",
      "-rw-r--r-- 1 Tom 197121   1658 Sep 29 13:09 0-contents.ipynb\n",
      "-rw-r--r-- 1 Tom 197121   2900 Sep 29 13:09 1-installation.ipynb\n",
      "-rw-r--r-- 1 Tom 197121  12385 Sep 29 13:10 2-jupyter.ipynb\n",
      "-rw-r--r-- 1 Tom 197121  54257 Sep 28 14:32 3-the-python-language.ipynb\n",
      "-rw-r--r-- 1 Tom 197121  51261 Sep 28 14:32 4-the-standard-library.ipynb\n",
      "-rw-r--r-- 1 Tom 197121   7593 Sep 28 14:32 5-tooling-ides-and-editors.ipynb\n",
      "-rw-r--r-- 1 Tom 197121 760208 Sep 28 14:32 6-scientific-python-libraries.ipynb\n",
      "-rw-r--r-- 1 Tom 197121    884 Sep 28 14:32 argparse_example.py\n",
      "-rw-r--r-- 1 Tom 197121    304 Sep 28 14:32 doctest_example.py\n",
      "-rwxr-xr-x 1 Tom 197121    403 Sep 28 14:32 logging_example.py\n",
      "drwxr-xr-x 1 Tom 197121      0 Sep 28 19:39 media\n"
     ]
    }
   ],
   "source": [
    "!ls -al"
   ]
  },
  {
   "cell_type": "markdown",
   "metadata": {},
   "source": [
    "Finally, there is loads of great documentation out for IPython and Jupyter to learn more. Jupyter functions as a wonderful research playground for prototyping little ideas and learning new libraries, I heartily recommend learning it.\n",
    "\n",
    "Here are a few pieces to start you off...\n",
    "\n",
    "* Press `<Ctrl>+M <Ctrl>+H` to bring up the keyboard shortcut documentation on Colaboratory\n",
    "* https://jupyterlab.readthedocs.io/en/stable/user/interface.html#keyboard-shortcuts\n",
    "* https://ipython.org/ipython-doc/3/interactive/reference.html#interactive-demos\n",
    "* https://github.com/jbwhit/jupyter-tips-and-tricks/"
   ]
  }
 ],
 "metadata": {
  "kernelspec": {
   "display_name": "Python 3",
   "language": "python",
   "name": "python3"
  },
  "language_info": {
   "codemirror_mode": {
    "name": "ipython",
    "version": 3
   },
   "file_extension": ".py",
   "mimetype": "text/x-python",
   "name": "python",
   "nbconvert_exporter": "python",
   "pygments_lexer": "ipython3",
   "version": "3.7.6"
  }
 },
 "nbformat": 4,
 "nbformat_minor": 4
}
