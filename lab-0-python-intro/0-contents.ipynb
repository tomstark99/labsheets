{
 "cells": [
  {
   "cell_type": "markdown",
   "metadata": {},
   "source": [
    "# An Introduction to Python\n",
    "\n",
    "Welcome to [Applied Deep Learning (ADL)](https://comsm0018-applied-deep-learning.github.io/). \n",
    "\n",
    "Throughout the course we'll be asking you to train neural networks using [PyTorch](https://pytorch.org/), a popular numerical computing library with good support for machine learning.\n",
    "\n",
    "The goal of this labsheet is to help you setup an environment for developing Python and familiarise yourself with the language to prepare you for training a simple neural network on the Iris dataset in the next lab session."
   ]
  },
  {
   "cell_type": "markdown",
   "metadata": {},
   "source": [
    "We will guide you through the following topics:\n",
    "\n",
    "1. [Installation](./1-installation.ipynb)\n",
    "2. [Introduction to Jupyter & IPython](./2-jupyter.ipynb)\n",
    "3. [The Python Language](./3-the-python-language.ipynb)\n",
    "4. [The Python Standard Library](./4-the-standard-library.ipynb)\n",
    "5. [Python Tooling](./5-tooling-ides-and-editors.ipynb)\n",
    "6. [The Scientific Python ecosystem](./6-scientific-python-libraries.ipynb)"
   ]
  }
 ],
 "metadata": {
  "kernelspec": {
   "display_name": "Python 3",
   "language": "python",
   "name": "python3"
  },
  "language_info": {
   "codemirror_mode": {
    "name": "ipython",
    "version": 3
   },
   "file_extension": ".py",
   "mimetype": "text/x-python",
   "name": "python",
   "nbconvert_exporter": "python",
   "pygments_lexer": "ipython3",
   "version": "3.7.6"
  }
 },
 "nbformat": 4,
 "nbformat_minor": 4
}
