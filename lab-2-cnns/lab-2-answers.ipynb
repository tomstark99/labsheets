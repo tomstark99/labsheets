{
 "cells": [
  {
   "cell_type": "code",
   "execution_count": 4,
   "metadata": {},
   "outputs": [],
   "source": [
    "import torch as t\n",
    "import torch.nn as nn\n",
    "import torch.nn.functional as F\n",
    "import torch.optim as optim\n",
    "import torchvision as tv\n",
    "import torchvision.transforms as transforms\n",
    "from torch.utils.data import DataLoader\n",
    "\n",
    "from multiprocessing import cpu_count\n",
    "\n",
    "device = t.device('cuda') if t.cuda.is_available() else t.device('cpu')"
   ]
  },
  {
   "cell_type": "code",
   "execution_count": 5,
   "metadata": {},
   "outputs": [
    {
     "name": "stdout",
     "output_type": "stream",
     "text": [
      "Downloading https://www.cs.toronto.edu/~kriz/cifar-10-python.tar.gz to C:\\Users\\itomm/cifar\\cifar-10-python.tar.gz\n"
     ]
    },
    {
     "data": {
      "application/vnd.jupyter.widget-view+json": {
       "model_id": "3be5494100eb4a7eb4eeb7bee8ef6948",
       "version_major": 2,
       "version_minor": 0
      },
      "text/plain": [
       "HBox(children=(FloatProgress(value=1.0, bar_style='info', max=1.0), HTML(value='')))"
      ]
     },
     "metadata": {},
     "output_type": "display_data"
    },
    {
     "name": "stdout",
     "output_type": "stream",
     "text": [
      "Extracting C:\\Users\\itomm/cifar\\cifar-10-python.tar.gz to C:\\Users\\itomm/cifar\n"
     ]
    }
   ],
   "source": [
    "transform = transforms.ToTensor()\n",
    "\n",
    "train_dataset = tv.datasets.CIFAR10(root='~/cifar',train=True,download=True,transform=transform)\n",
    "test_dataset = tv.datasets.CIFAR10(root='~/cifar',train=False,download=False,transform=transform)\n",
    "\n",
    "train_loader = DataLoader(train_dataset, shuffle=True, batch_size=128, num_workers=cpu_count())\n",
    "test_loader = DataLoader(test_dataset, shuffle=True, batch_size=128, num_workers=cpu_count())"
   ]
  },
  {
   "cell_type": "code",
   "execution_count": 6,
   "metadata": {},
   "outputs": [],
   "source": [
    "class ImageShape(NamedTuple):\n",
    "    h: int\n",
    "    w: int\n",
    "    c: int\n",
    "\n",
    "class Net(nn.Module):\n",
    "    def __init__(\n",
    "        self,\n",
    "        height: int = 32,\n",
    "        width: int = 32,\n",
    "        channels: int = 3,\n",
    "        class_count: int = 10\n",
    "    ):\n",
    "        self.input_shape = ImageShape(height, width, channels)\n",
    "        self.class_count = class_count\n",
    "        \n",
    "#         self.conv1 = nn.Conv2d(\n",
    "#             in_channels=self.input_shape.c,\n",
    "#             out_channels=32,\n",
    "#             kernel_size=(5,5),\n",
    "#             padding=(3,3)\n",
    "#         )\n",
    "        \"\"\"\n",
    "        nn.Conv2d(\n",
    "            in_channels: int,\n",
    "            out_channels: int,\n",
    "            kernel_size: int, tuple\n",
    "                an int uses the same W x H dimensions\n",
    "                a tuple uses (W, H) as dimensions\n",
    "            stride: int, tuple\n",
    "            padding: int, tuple\n",
    "        )\n",
    "        \"\"\"\n",
    "        self.conv1 = nn.Conv2d(self.input_shape.c, 32, 5, padding=3)\n",
    "        \n",
    "        # self.pool = nn.MaxPool2d(kernel_size=(2, 2), stride=(2,2))\n",
    "        \"\"\"\n",
    "        nn.MaxPool2d(\n",
    "            kernel_size: int, tuple\n",
    "                an int uses the same W x H dimensions\n",
    "                a tuple uses (W, H) as dimensions\n",
    "            stride: int, tuple\n",
    "                (same as above)\n",
    "        )\n",
    "        \"\"\"\n",
    "        self.pool1 = nn.MaxPool2d(2,2)\n",
    "        \n",
    "        self.conv2 = nn.Conv2d(32, 64, 5, padding=3)\n",
    "        self.pool2 = nn.MaxPool2d(8, 8)\n",
    "        self.fc1 = nn.Linear(4096, 1024)\n",
    "        self.fc2 = nn.Linear(1024, 10)\n",
    "        self.initialise_layer(self.conv1)\n",
    "\n",
    "    def forward(self, x):\n",
    "        x = self.pool(F.relu(self.conv1(x)))\n",
    "        x = self.pool(F.relu(self.conv2(x)))\n",
    "        x = x.view(-1, 16 * 5 * 5)\n",
    "        x = F.relu(self.fc1(x))\n",
    "        x = F.relu(self.fc2(x))\n",
    "        x = self.fc3(x)\n",
    "        return x\n",
    "    \n",
    "    @staticmethod\n",
    "    def initialise_layer(layer):\n",
    "        if hasattr(layer, \"bias\"):\n",
    "            nn.init.zeros_(layer.bias)\n",
    "        if hasattr(layer, \"weight\"):\n",
    "            nn.init.kaiming_normal_(layer.weight)"
   ]
  },
  {
   "cell_type": "code",
   "execution_count": 22,
   "metadata": {},
   "outputs": [
    {
     "name": "stdout",
     "output_type": "stream",
     "text": [
      "torch.Size([1, 3, 32, 32])\n",
      "torch.Size([1, 32, 32, 32])\n",
      "torch.Size([1, 32, 16, 16])\n",
      "torch.Size([1, 64, 16, 16])\n",
      "torch.Size([1, 64, 8, 8])\n",
      "torch.Size([1, 4096])\n",
      "torch.Size([1, 1024])\n",
      "torch.Size([1, 10])\n",
      "tensor([[-0.2317, -0.0547,  0.0782,  0.0770, -0.1781, -0.0291,  0.0751,  0.0072,\n",
      "          0.1072, -0.0551]], grad_fn=<AddmmBackward>)\n"
     ]
    }
   ],
   "source": [
    "xd = t.randn(1,3,32,32)\n",
    "print(xd.shape)\n",
    "conv1 = nn.Conv2d(3, 32, 5, padding=2)\n",
    "xd = F.relu(conv1(xd))\n",
    "print(xd.shape)\n",
    "pool = nn.MaxPool2d(2,2)\n",
    "xd = pool(xd)\n",
    "print(xd.shape)\n",
    "conv2 = nn.Conv2d(32,64,5, padding=2)\n",
    "xd = F.relu(conv2(xd))\n",
    "print(xd.shape)\n",
    "xd = pool(xd)\n",
    "print(xd.shape)\n",
    "xd = t.flatten(xd, 1)\n",
    "print(xd.shape)\n",
    "fc1 = nn.Linear(4096, 1024)\n",
    "fc2 = nn.Linear(1024, 10)\n",
    "xd = F.relu(fc1(xd))\n",
    "print(xd.shape)\n",
    "xd = fc2(xd)\n",
    "print(xd.shape)\n",
    "print(xd)"
   ]
  },
  {
   "cell_type": "code",
   "execution_count": null,
   "metadata": {},
   "outputs": [],
   "source": []
  }
 ],
 "metadata": {
  "kernelspec": {
   "display_name": "Python 3",
   "language": "python",
   "name": "python3"
  },
  "language_info": {
   "codemirror_mode": {
    "name": "ipython",
    "version": 3
   },
   "file_extension": ".py",
   "mimetype": "text/x-python",
   "name": "python",
   "nbconvert_exporter": "python",
   "pygments_lexer": "ipython3",
   "version": "3.7.6"
  }
 },
 "nbformat": 4,
 "nbformat_minor": 5
}
