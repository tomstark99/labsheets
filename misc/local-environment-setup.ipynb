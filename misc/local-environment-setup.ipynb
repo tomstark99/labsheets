{
 "cells": [
  {
   "cell_type": "markdown",
   "metadata": {},
   "source": [
    "# Environment Set up\n",
    "\n",
    "We're going to install the following software\n",
    " \n",
    "- [Python 3](https://www.python.org/downloads/) (We need 3.6 or above)\n",
    "- [Jupyter Lab](https://jupyterlab.readthedocs.io/)\n",
    "- [PyTorch](https://pytorch.org/)\n",
    "\n",
    "Go to the section corresponding to your OS\n",
    "\n",
    "- [Linux](#Linux)\n",
    "- [Windows](#Windows)\n",
    "- [macOS](#macOS)\n",
    "\n",
    "and then \n",
    "\n",
    "- [Install PyTorch](#Install-PyTorch)\n",
    "- [Install Jupyter Lab](#Install-Jupyter-Lab)\n",
    "- [Install Other Dependencies](#Install-Other-Dependencies)\n",
    "- [Run Jupyter Lab](#Running-Jupyter-Lab)"
   ]
  },
  {
   "cell_type": "markdown",
   "metadata": {},
   "source": [
    "---\n",
    "## Linux\n",
    "\n",
    "### Install Python 3\n",
    "\n",
    "**Ubuntu**\n",
    "\n",
    "```console\n",
    "$ sudo apt update\n",
    "$ sudo apt install python3{,-pip}\n",
    "```\n",
    "\n",
    "**Fedora**\n",
    "\n",
    "```console\n",
    "$ sudo dnf update\n",
    "$ sudo dnf install python37 python3-pip\n",
    "```\n",
    "\n",
    "**Arch**\n",
    "\n",
    "```console\n",
    "$ sudo pacman -S python{,-pip}\n",
    "```"
   ]
  },
  {
   "cell_type": "markdown",
   "metadata": {},
   "source": [
    "## Windows\n",
    "\n",
    "### Install Chocolatey\n",
    "\n",
    "Open an elevated rights command prompt (type `cmd.exe` into the start menu, right click and run as administrator) and paste the following command in (taken from the [Chocolatey](https://chocolatey.org/install) installation guide)\n",
    "\n",
    "```console\n",
    "> @\"%SystemRoot%\\System32\\WindowsPowerShell\\v1.0\\powershell.exe\" -NoProfile -InputFormat None -ExecutionPolicy Bypass -Command \"iex ((New-Object System.Net.WebClient).DownloadString('https://chocolatey.org/install.ps1'))\" && SET \"PATH=%PATH%;%ALLUSERSPROFILE%\\chocolatey\\bin\"\n",
    "```\n",
    "\n",
    "### Install Python 3\n",
    "\n",
    "Open up a new elevated rights command prompt and run\n",
    "\n",
    "```console\n",
    "> choco install -y python3\n",
    "```\n",
    "\n",
    "Open up a new command prompt and check both `python3` and `pip3` work\n",
    "\n",
    "```console\n",
    "> python --version\n",
    "Python 3.7.4\n",
    "\n",
    "> pip3 --version\n",
    "pip 19.0.3 from c:\\python37\\lib\\site-packages\\pip (python 3.7)\n",
    "```\n",
    "\n",
    "`python --version` should be return a version greater than or equal to 3.6.\n",
    "\n",
    "**Note:** You will have to replace `python3` with `python` in the following invocations in this guide."
   ]
  },
  {
   "cell_type": "markdown",
   "metadata": {},
   "source": [
    "## macOS\n",
    "\n",
    "### Install brew\n",
    "\n",
    "[Brew](https://brew.sh) is a package manager for macOS. It will enable us to install Python 3 with ease.\n",
    "\n",
    "```console\n",
    "$ /usr/bin/ruby -e \"$(curl -fsSL https://raw.githubusercontent.com/Homebrew/install/master/install)\"\n",
    "```\n",
    "\n",
    "### Install python 3\n",
    "\n",
    "```console\n",
    "$ brew install python3\n",
    "```"
   ]
  },
  {
   "cell_type": "markdown",
   "metadata": {},
   "source": [
    "\n",
    "---\n",
    "## Install Jupyter Lab\n",
    "\n",
    "The following should work on all OSes once Python 3 and pip have been installed.\n",
    "\n",
    "\n",
    "**Note:** For windows users, `sudo` should be removed from all subsequent commands in this guide.\n",
    "```console\n",
    "$ sudo pip3 install jupyterlab\n",
    "```"
   ]
  },
  {
   "cell_type": "markdown",
   "metadata": {},
   "source": [
    "---\n",
    "## Install PyTorch\n",
    "\n",
    "PyTorch comes in a few different packages depending on your machine configuration. The easiest and most compatible version is the CPU-only package. \n",
    "\n",
    "**Note:** If your laptop has an NVIDIA GPU, you may want to install the CUDA accelerated version of the package for better performance. This requires you to have either CUDA 9 or 10 installed. This can be a bit fiddly so we recommend you just install the CPU version to begin with and then try and install the GPU version in your own time.\n",
    "\n",
    "For *Linux* Python 3.6 users:\n",
    "```console\n",
    "$ sudo pip3 install torch==1.2.0+cpu torchvision==0.4.0+cpu -f https://download.pytorch.org/whl/torch_stable.html\n",
    "```\n",
    "\n",
    "For *Linux* Python 3.7 users:\n",
    "\n",
    "```console\n",
    "$ sudo  pip3 install torch==1.2.0+cpu torchvision==0.4.0+cpu -f https://download.pytorch.org/whl/torch_stable.html\n",
    "```\n",
    "\n",
    "For *macOS* users:\n",
    "\n",
    "```console\n",
    "$ sudo pip3 install torch torchvision\n",
    "```\n",
    "\n",
    "For *Windows* users:\n",
    "\n",
    "```console\n",
    "> pip3 install torch==1.2.0+cpu torchvision==0.4.0+cpu -f https://download.pytorch.org/whl/torch_stable.html\n",
    "```\n",
    "\n",
    "Check PyTorch has been successfully installed by running the following in a terminal\n",
    "\n",
    "```\n",
    "$ python3 -c 'import torch; print(torch.__version__)'\n",
    "1.2.0\n",
    "```\n",
    "\n",
    "You should see the output like above as `1.2.0`. If there is an error, then something went wrong with the installation. Seek the help of a lab assistant.\n",
    "\n",
    "\n",
    "**Having issues?** Try going to https://pytorch.org/ and following the quick start guide. PyTorch binaries are Python minor version specific so you might want to double check your python version and ensure that matches up with the build of pytorch you're trying to install.\n",
    "\n",
    "---\n",
    "## Install Other Dependencies\n",
    "\n",
    "```console\n",
    "$ pip3 install seaborn matplotlib scikit-learn tensorflow==2.0.0-rc0\n",
    "```"
   ]
  },
  {
   "cell_type": "markdown",
   "metadata": {},
   "source": [
    "---\n",
    "# Running Jupyter Lab\n",
    "\n",
    "Once complete, you should be able to run Jupyter Lab from the command line\n",
    "\n",
    "```console\n",
    "$ jupyter lab\n",
    "[I 20:56:24.575 LabApp] JupyterLab extension loaded from /usr/lib/python3.7/site-packages/jupyterlab\n",
    "[I 20:56:24.575 LabApp] JupyterLab application directory is /usr/share/jupyter/lab\n",
    "Serving notebooks from local directory: /home/will/cloud/teaching/adl/pytorch-labsheets/lab-1-dnns/media\n",
    "0 active kernels\n",
    "The Jupyter Notebook is running at:\n",
    "http://localhost:8888/\n",
    "```\n",
    "\n",
    "This should cause your browser to open with a tab pointing at the URL Jupyter Lab is running at, typically this is http://\n",
    "localhost:8888\n",
    "\n",
    "You be looking at a page looking like this:\n",
    "\n",
    "<img src=\"./media/jupyterlab-ui.png\" width=\"600\">\n",
    "\n",
    "To create a new notebook, click *Python 3* under the *Notebook* heading.\n",
    "\n",
    "<img src=\"./media/jupyterlab-notebook.png\" width=\"600\">\n",
    "\n",
    "Now lets check you've got a suitable version of python by typing\n",
    "\n",
    "```python\n",
    "import sys\n",
    "print(sys.version)\n",
    "```\n",
    "\n",
    "into the grey box, this is called a *Cell*. You can *Run* the cell by either pressing the play icon in the menu bar, or by pressing `<Ctrl>-<Enter>`. The output should look something like that below\n",
    "\n",
    "\n",
    "<img src=\"./media/jupyterlab-version.png\" width=\"900\">\n",
    "\n",
    "The above shows the result on a fresh Ubuntu 18.04 install. As long as your version of Python 3 is at least 3.6 then you're good to go!\n",
    "\n",
    "Next we'll check that PyTorch can be imported (sometimes this can fail if there are multiple python versions installed on your machine and Jupyter Lab is run from one different from that into which PyTorch was installed). Type the following into a new cell (press the `+` button to add a new cell below the previous)\n",
    "\n",
    "```python\n",
    "import torch\n",
    "import torchvision\n",
    "print(torch.__version__)\n",
    "print(torchvision.__version__)\n",
    "```\n",
    "\n",
    "You should get `1.2.0` on the first line and `0.4.0` on the second (or version numbers greater than this).\n",
    "\n",
    "<img src=\"./media/jupyterlab-pytorch-version.png\" width=\"900\">\n",
    "\n",
    "Congraulations. You're environment is all set up!"
   ]
  },
  {
   "cell_type": "code",
   "execution_count": 1,
   "metadata": {},
   "outputs": [
    {
     "name": "stdout",
     "output_type": "stream",
     "text": [
      "3.7.3 | packaged by conda-forge | (default, Jul  1 2019, 22:01:29) [MSC v.1900 64 bit (AMD64)]\n"
     ]
    }
   ],
   "source": [
    "import sys\n",
    "print(sys.version)"
   ]
  },
  {
   "cell_type": "code",
   "execution_count": 2,
   "metadata": {},
   "outputs": [
    {
     "name": "stdout",
     "output_type": "stream",
     "text": [
      "1.1.0\n"
     ]
    }
   ],
   "source": [
    "import torch\n",
    "print(torch.__version__)"
   ]
  },
  {
   "cell_type": "code",
   "execution_count": 3,
   "metadata": {},
   "outputs": [
    {
     "name": "stdout",
     "output_type": "stream",
     "text": [
      "0.3.0\n"
     ]
    }
   ],
   "source": [
    "import torchvision\n",
    "print(torchvision.__version__)"
   ]
  },
  {
   "cell_type": "code",
   "execution_count": null,
   "metadata": {},
   "outputs": [],
   "source": []
  }
 ],
 "metadata": {
  "kernelspec": {
   "display_name": "Python 3",
   "language": "python",
   "name": "python3"
  },
  "language_info": {
   "codemirror_mode": {
    "name": "ipython",
    "version": 3
   },
   "file_extension": ".py",
   "mimetype": "text/x-python",
   "name": "python",
   "nbconvert_exporter": "python",
   "pygments_lexer": "ipython3",
   "version": "3.7.3"
  }
 },
 "nbformat": 4,
 "nbformat_minor": 4
}
